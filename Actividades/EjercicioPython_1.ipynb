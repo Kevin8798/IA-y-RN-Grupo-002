{
  "nbformat": 4,
  "nbformat_minor": 0,
  "metadata": {
    "colab": {
      "provenance": []
    },
    "kernelspec": {
      "name": "python3",
      "display_name": "Python 3"
    },
    "language_info": {
      "name": "python"
    }
  },
  "cells": [
    {
      "cell_type": "code",
      "execution_count": null,
      "metadata": {
        "colab": {
          "base_uri": "https://localhost:8080/",
          "height": 35
        },
        "id": "iaZHCUTfTev0",
        "outputId": "c15bb827-4d47-4f33-fe71-5b3c1d97962e"
      },
      "outputs": [
        {
          "output_type": "execute_result",
          "data": {
            "text/plain": [
              "'\\nActividad 2: Ejercicios en Python 1\\nNombre: Kevin Alexis Martínez García\\nMatricula: 1923760\\nHora de clase: N1 - N3\\n'"
            ],
            "application/vnd.google.colaboratory.intrinsic+json": {
              "type": "string"
            }
          },
          "metadata": {},
          "execution_count": 46
        }
      ],
      "source": [
        "\"\"\"\n",
        "Actividad 2: Ejercicios en Python 1\n",
        "Nombre: Kevin Alexis Martínez García\n",
        "Matricula: 1923760\n",
        "Hora de clase: N1 - N3\n",
        "\"\"\"\n"
      ]
    },
    {
      "cell_type": "code",
      "execution_count": null,
      "metadata": {
        "colab": {
          "base_uri": "https://localhost:8080/"
        },
        "outputId": "bf713bc1-0d6f-428b-d866-16e7072fc667",
        "id": "PABRkWehaxhU"
      },
      "outputs": [
        {
          "output_type": "stream",
          "name": "stdout",
          "text": [
            "Ingresa tu nombre: Kevin\n",
            "Hola Kevin buenos dias\n"
          ]
        }
      ],
      "source": [
        "# Desarrolla un algoritmo que le pida al usuario por su nombre y que lo salude con su nombre.\n",
        "nombre = input(\"Ingresa tu nombre: \")\n",
        "\n",
        "print(\"Hola \"\"Kevin\"\" buenos dias\")\n"
      ]
    },
    {
      "cell_type": "code",
      "source": [
        "# Desarrolla un algoritmo que por medio de una función, le pida al usuario una lista de N elementos y como resultado invierta el sentido de la lista.\n",
        "import math\n",
        "lista1 = []\n",
        "def lista(num):\n",
        "  for i in range(num):\n",
        "    x = int(input(\"ingrese numero{}: \".format(i+1)))\n",
        "    lista1.append(x)\n",
        "  return lista1\n",
        "'''def intercambiar():\n",
        "    i = 0\n",
        "    for n in range(math.floor(len(lista1) / 2)):\n",
        "        i = i - 1\n",
        "        lista1[n], lista1[i], lista1[n]\n",
        "    return lista1'''\n",
        "\n",
        "print(lista(8))\n",
        "lista1.reverse()\n",
        "print(\"lista modificada\",lista1)\n"
      ],
      "metadata": {
        "colab": {
          "base_uri": "https://localhost:8080/"
        },
        "id": "lVRwf1NObarR",
        "outputId": "71a784ea-3552-43f0-f90a-f3946044d54d"
      },
      "execution_count": null,
      "outputs": [
        {
          "output_type": "stream",
          "name": "stdout",
          "text": [
            "ingrese numero1: 1\n",
            "ingrese numero2: 56\n",
            "ingrese numero3: 25\n",
            "ingrese numero4: 34\n",
            "ingrese numero5: 69\n",
            "ingrese numero6: 12\n",
            "ingrese numero7: 78\n",
            "ingrese numero8: 12\n",
            "[1, 56, 25, 34, 69, 12, 78, 12]\n",
            "lista modificada [12, 78, 12, 69, 34, 25, 56, 1]\n"
          ]
        }
      ]
    },
    {
      "cell_type": "code",
      "source": [
        "# Desarrolla un algoritmo que le pregunte al usuario cuántos números de la serie de Fibonnaci quiere generar y que al final los imprima.\n",
        "a=0\n",
        "b=1\n",
        "n=int(input(\"ingrese los n términos que desea imprimir de la sucesión de Fibonacci: \"))\n",
        "if n==0:\n",
        " print(a)\n",
        "elif n==1:\n",
        "   print(a, end=\", \")\n",
        "   print(b)\n",
        "else:\n",
        "   print(a, end=\", \")\n",
        "   print(b, end=\", \")\n",
        "   for i in range(n-2):\n",
        "     c=a+b\n",
        "     if i == n-3:\n",
        "       print(c)\n",
        "     else:\n",
        "       print(c, end=\", \")\n",
        "       a=b\n",
        "       b=c\n"
      ],
      "metadata": {
        "colab": {
          "base_uri": "https://localhost:8080/"
        },
        "id": "AJwl_WZzog2O",
        "outputId": "ab7f7830-1619-4b5f-8454-2ac9de123a2a"
      },
      "execution_count": null,
      "outputs": [
        {
          "output_type": "stream",
          "name": "stdout",
          "text": [
            "ingrese los n términos que desea imprimir de la sucesión de Fibonacci: 20\n",
            "0, 1, 1, 2, 3, 5, 8, 13, 21, 34, 55, 89, 144, 233, 377, 610, 987, 1597, 2584, 4181\n"
          ]
        }
      ]
    }
  ]
}